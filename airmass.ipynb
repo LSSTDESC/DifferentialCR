{
 "cells": [
  {
   "cell_type": "code",
   "execution_count": 1,
   "id": "05a67979-2de0-4c50-ad22-2cff29425e96",
   "metadata": {},
   "outputs": [],
   "source": [
    "import matplotlib.pyplot as plt\n",
    "import numpy as np\n",
    "import sqlite3\n",
    "import galsim"
   ]
  },
  {
   "cell_type": "code",
   "execution_count": 12,
   "id": "14dcbfc7-23aa-4045-9dc7-696261eac7d5",
   "metadata": {},
   "outputs": [],
   "source": [
    "db_fname = \"db files/baseline_v3.3_10yrs.db\""
   ]
  },
  {
   "cell_type": "code",
   "execution_count": 13,
   "id": "daacecdb-a3f3-4c95-975d-84af4264465b",
   "metadata": {},
   "outputs": [],
   "source": [
    "# open a connection to the database file; this doesn't read any data yet\n",
    "con = sqlite3.connect(db_fname)"
   ]
  },
  {
   "cell_type": "code",
   "execution_count": 14,
   "id": "99d944cc-e126-4571-b2df-85055fdb7427",
   "metadata": {},
   "outputs": [],
   "source": [
    "# create a 'cursor' that can scan through tables in the database\n",
    "cur = con.cursor()"
   ]
  },
  {
   "cell_type": "code",
   "execution_count": 15,
   "id": "1d55f28d-e63f-4df4-85c8-64f68b944e56",
   "metadata": {},
   "outputs": [
    {
     "name": "stdout",
     "output_type": "stream",
     "text": [
      "tables in /Users/msredden/Documents/DESC/DifferentialCR/db files/baseline_v3.3_10yrs.db:\n",
      "\tobservations\n",
      "\tinfo\n"
     ]
    }
   ],
   "source": [
    "# get the names of all tables in the database\n",
    "print(f\"tables in {db_fname}:\")\n",
    "for table in cur.execute(\"SELECT * FROM sqlite_master where type='table'\"):\n",
    "    print(f\"\\t{table[1]}\")"
   ]
  },
  {
   "cell_type": "code",
   "execution_count": 16,
   "id": "c01437e1-51f7-4635-8ecf-3723dcc5c24f",
   "metadata": {},
   "outputs": [
    {
     "data": {
      "text/plain": [
       "[(0, 'observationId', 'INTEGER', 0, None, 0),\n",
       " (1, 'fieldRA', 'REAL', 0, None, 0),\n",
       " (2, 'fieldDec', 'REAL', 0, None, 0),\n",
       " (3, 'observationStartMJD', 'REAL', 0, None, 0),\n",
       " (4, 'flush_by_mjd', 'REAL', 0, None, 0),\n",
       " (5, 'visitExposureTime', 'REAL', 0, None, 0),\n",
       " (6, 'filter', 'TEXT', 0, None, 0),\n",
       " (7, 'rotSkyPos', 'REAL', 0, None, 0),\n",
       " (8, 'rotSkyPos_desired', 'REAL', 0, None, 0),\n",
       " (9, 'numExposures', 'INTEGER', 0, None, 0),\n",
       " (10, 'airmass', 'REAL', 0, None, 0),\n",
       " (11, 'seeingFwhm500', 'REAL', 0, None, 0),\n",
       " (12, 'seeingFwhmEff', 'REAL', 0, None, 0),\n",
       " (13, 'seeingFwhmGeom', 'REAL', 0, None, 0),\n",
       " (14, 'skyBrightness', 'REAL', 0, None, 0),\n",
       " (15, 'night', 'INTEGER', 0, None, 0),\n",
       " (16, 'slewTime', 'REAL', 0, None, 0),\n",
       " (17, 'visitTime', 'REAL', 0, None, 0),\n",
       " (18, 'slewDistance', 'REAL', 0, None, 0),\n",
       " (19, 'fiveSigmaDepth', 'REAL', 0, None, 0),\n",
       " (20, 'altitude', 'REAL', 0, None, 0),\n",
       " (21, 'azimuth', 'REAL', 0, None, 0),\n",
       " (22, 'paraAngle', 'REAL', 0, None, 0),\n",
       " (23, 'cloud', 'REAL', 0, None, 0),\n",
       " (24, 'moonAlt', 'REAL', 0, None, 0),\n",
       " (25, 'sunAlt', 'REAL', 0, None, 0),\n",
       " (26, 'note', 'TEXT', 0, None, 0),\n",
       " (27, 'target', 'TEXT', 0, None, 0),\n",
       " (28, 'fieldId', 'INTEGER', 0, None, 0),\n",
       " (29, 'proposalId', 'INTEGER', 0, None, 0),\n",
       " (30, 'block_id', 'INTEGER', 0, None, 0),\n",
       " (31, 'observationStartLST', 'REAL', 0, None, 0),\n",
       " (32, 'rotTelPos', 'REAL', 0, None, 0),\n",
       " (33, 'rotTelPos_backup', 'REAL', 0, None, 0),\n",
       " (34, 'moonAz', 'REAL', 0, None, 0),\n",
       " (35, 'sunAz', 'REAL', 0, None, 0),\n",
       " (36, 'sunRA', 'REAL', 0, None, 0),\n",
       " (37, 'sunDec', 'REAL', 0, None, 0),\n",
       " (38, 'moonRA', 'REAL', 0, None, 0),\n",
       " (39, 'moonDec', 'REAL', 0, None, 0),\n",
       " (40, 'moonDistance', 'REAL', 0, None, 0),\n",
       " (41, 'solarElong', 'REAL', 0, None, 0),\n",
       " (42, 'moonPhase', 'REAL', 0, None, 0),\n",
       " (43, 'cummTelAz', 'REAL', 0, None, 0),\n",
       " (44, 'scripted_id', 'INTEGER', 0, None, 0),\n",
       " (45, 'scheduler_note', 'VARCHAR', 0, None, 0)]"
      ]
     },
     "execution_count": 16,
     "metadata": {},
     "output_type": "execute_result"
    }
   ],
   "source": [
    "# use the `table_info` sql directive to discover\n",
    "# 1. what columns are in the `observations` table, and\n",
    "# 2. what data types they have\n",
    "cur.execute(\"PRAGMA table_info(observations);\").fetchall()"
   ]
  },
  {
   "cell_type": "code",
   "execution_count": 7,
   "id": "d3a10fc0-4cf0-49a4-b831-12615275600b",
   "metadata": {},
   "outputs": [],
   "source": [
    "# run the query from Erin;\n",
    "# this will select the airmass of observations in the g-band\n",
    "# for the wide survey\n",
    "res = cur.execute(\"\"\"\n",
    "    select\n",
    "        airmass\n",
    "    from\n",
    "        observations\n",
    "    where\n",
    "        target = '' and filter = 'g'\n",
    "\"\"\")"
   ]
  },
  {
   "cell_type": "code",
   "execution_count": 8,
   "id": "cefddcb4-78da-4eb6-8652-888aa7180b11",
   "metadata": {},
   "outputs": [],
   "source": [
    "data = np.array(res.fetchall())"
   ]
  },
  {
   "cell_type": "code",
   "execution_count": 9,
   "id": "52978b57-0f29-4bb9-ac9e-0af13fbd6ed9",
   "metadata": {},
   "outputs": [
    {
     "data": {
      "image/png": "[encoded data removed]",
      "text/plain": [
       "<Figure size 640x480 with 1 Axes>"
      ]
     },
     "metadata": {},
     "output_type": "display_data"
    }
   ],
   "source": [
    "fig, ax = plt.subplots(1, 1)\n",
    "\n",
    "ax.hist(data, bins=100)\n",
    "\n",
    "ax.set_xlabel(\"airmass [g]\")\n",
    "\n",
    "plt.show()"
   ]
  },
  {
   "cell_type": "code",
   "execution_count": null,
   "id": "539e2417-f506-48cc-9dac-595bdefce32d",
   "metadata": {},
   "outputs": [],
   "source": []
  }
 ],
 "metadata": {
  "kernelspec": {
   "display_name": "Python 3 (ipykernel)",
   "language": "python",
   "name": "python3"
  },
  "language_info": {
   "codemirror_mode": {
    "name": "ipython",
    "version": 3
   },
   "file_extension": ".py",
   "mimetype": "text/x-python",
   "name": "python",
   "nbconvert_exporter": "python",
   "pygments_lexer": "ipython3",
   "version": "3.13.2"
  }
 },
 "nbformat": 4,
 "nbformat_minor": 5
}
