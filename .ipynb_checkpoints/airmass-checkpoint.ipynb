{
 "cells": [
  {
   "cell_type": "code",
   "execution_count": null,
   "id": "05a67979-2de0-4c50-ad22-2cff29425e96",
   "metadata": {},
   "outputs": [],
   "source": [
    "import matplotlib.pyplot as plt\n",
    "import numpy as np\n",
    "import sqlite3"
   ]
  },
  {
   "cell_type": "code",
   "execution_count": null,
   "id": "14dcbfc7-23aa-4045-9dc7-696261eac7d5",
   "metadata": {},
   "outputs": [],
   "source": [
    "db_fname = \"baseline_v3.3_10yrs.db\""
   ]
  },
  {
   "cell_type": "code",
   "execution_count": null,
   "id": "daacecdb-a3f3-4c95-975d-84af4264465b",
   "metadata": {},
   "outputs": [],
   "source": [
    "# open a connection to the database file; this doesn't read any data yet\n",
    "con = sqlite3.connect(db_fname)"
   ]
  },
  {
   "cell_type": "code",
   "execution_count": null,
   "id": "99d944cc-e126-4571-b2df-85055fdb7427",
   "metadata": {},
   "outputs": [],
   "source": [
    "# create a 'cursor' that can scan through tables in the database\n",
    "cur = con.cursor()"
   ]
  },
  {
   "cell_type": "code",
   "execution_count": null,
   "id": "1d55f28d-e63f-4df4-85c8-64f68b944e56",
   "metadata": {},
   "outputs": [],
   "source": [
    "# get the names of all tables in the database\n",
    "print(f\"tables in {db_fname}:\")\n",
    "for table in cur.execute(\"SELECT * FROM sqlite_master where type='table'\"):\n",
    "    print(f\"\\t{table[1]}\")"
   ]
  },
  {
   "cell_type": "code",
   "execution_count": null,
   "id": "c01437e1-51f7-4635-8ecf-3723dcc5c24f",
   "metadata": {},
   "outputs": [],
   "source": [
    "# use the `table_info` sql directive to discover\n",
    "# 1. what columns are in the `observations` table, and\n",
    "# 2. what data types they have\n",
    "cur.execute(\"PRAGMA table_info(observations);\").fetchall()"
   ]
  },
  {
   "cell_type": "code",
   "execution_count": null,
   "id": "d3a10fc0-4cf0-49a4-b831-12615275600b",
   "metadata": {},
   "outputs": [],
   "source": [
    "# run the query from Erin;\n",
    "# this will select the airmass of observations in the g-band\n",
    "# for the wide survey\n",
    "res = cur.execute(\"\"\"\n",
    "    select\n",
    "        airmass\n",
    "    from\n",
    "        observations\n",
    "    where\n",
    "        target = '' and filter = 'g'\n",
    "\"\"\")"
   ]
  },
  {
   "cell_type": "code",
   "execution_count": null,
   "id": "cefddcb4-78da-4eb6-8652-888aa7180b11",
   "metadata": {},
   "outputs": [],
   "source": [
    "data = np.array(res.fetchall())"
   ]
  },
  {
   "cell_type": "code",
   "execution_count": null,
   "id": "52978b57-0f29-4bb9-ac9e-0af13fbd6ed9",
   "metadata": {},
   "outputs": [],
   "source": [
    "fig, ax = plt.subplots(1, 1)\n",
    "\n",
    "ax.hist(data, bins=100)\n",
    "\n",
    "ax.set_xlabel(\"airmass [g]\")\n",
    "\n",
    "plt.show()"
   ]
  },
  {
   "cell_type": "code",
   "execution_count": null,
   "id": "539e2417-f506-48cc-9dac-595bdefce32d",
   "metadata": {},
   "outputs": [],
   "source": []
  }
 ],
 "metadata": {
  "kernelspec": {
   "display_name": "Python 3 (ipykernel)",
   "language": "python",
   "name": "python3"
  },
  "language_info": {
   "codemirror_mode": {
    "name": "ipython",
    "version": 3
   },
   "file_extension": ".py",
   "mimetype": "text/x-python",
   "name": "python",
   "nbconvert_exporter": "python",
   "pygments_lexer": "ipython3",
   "version": "3.11.9"
  }
 },
 "nbformat": 4,
 "nbformat_minor": 5
}
